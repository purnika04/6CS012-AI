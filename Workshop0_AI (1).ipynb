{
  "nbformat": 4,
  "nbformat_minor": 0,
  "metadata": {
    "colab": {
      "provenance": []
    },
    "kernelspec": {
      "name": "python3",
      "display_name": "Python 3"
    },
    "language_info": {
      "name": "python"
    }
  },
  "cells": [
    {
      "cell_type": "markdown",
      "source": [
        "4.1 Exercise on Functions:\n",
        "Task - 1:\n",
        "Create a Python program that converts between different units of measurement.\n",
        "• The program should:\n",
        "1. Prompt the user to choose the type of conversion (e.g., length, weight, volume).\n",
        "2. Ask the user to input the value to be converted.\n",
        "3. Perform the conversion and display the result.\n",
        "4. Handle potential errors, such as invalid input or unsupported conversion types."
      ],
      "metadata": {
        "id": "pCggndpgAv26"
      }
    },
    {
      "cell_type": "code",
      "execution_count": null,
      "metadata": {
        "colab": {
          "base_uri": "https://localhost:8080/"
        },
        "id": "c9oWK2rOAuSD",
        "outputId": "dafb9702-84ea-42fc-86e2-2c40aeb73e41"
      },
      "outputs": [
        {
          "output_type": "stream",
          "name": "stdout",
          "text": [
            "Unit Converter\n",
            "Choose conversion type:\n",
            "1. Length (meters to feet or feet to meters)\n",
            "2. Weight (kilograms to pounds or pounds to kilograms)\n",
            "3. Volume (liters to gallons or gallons to liters)\n",
            "Enter choice (1/2/3): 1\n",
            "Enter the value to convert: 55\n",
            "Enter conversion type ('m_to_ft' or 'ft_to_m'): m_to_ft\n",
            "Converted value: 180.4462\n"
          ]
        }
      ],
      "source": [
        "# Simple Unit Converter\n",
        "\n",
        "# Function to convert length\n",
        "def convert_length(value, conversion_type):\n",
        "    if conversion_type == 'm_to_ft':\n",
        "        return value * 3.28084\n",
        "    elif conversion_type == 'ft_to_m':\n",
        "        return value / 3.28084\n",
        "    else:\n",
        "        print('Unsupported length conversion type.')\n",
        "        return None\n",
        "\n",
        "# Function to convert weight\n",
        "def convert_weight(value, conversion_type):\n",
        "    if conversion_type == 'kg_to_lbs':\n",
        "        return value * 2.20462\n",
        "    elif conversion_type == 'lbs_to_kg':\n",
        "        return value / 2.20462\n",
        "    else:\n",
        "        print('Unsupported weight conversion type.')\n",
        "        return None\n",
        "\n",
        "# Function to convert volume\n",
        "def convert_volume(value, conversion_type):\n",
        "    if conversion_type == 'l_to_gal':\n",
        "        return value * 0.264172\n",
        "    elif conversion_type == 'gal_to_l':\n",
        "        return value / 0.264172\n",
        "    else:\n",
        "        print('Unsupported volume conversion type.')\n",
        "        return None\n",
        "\n",
        "# Main program\n",
        "print('Unit Converter')\n",
        "print('Choose conversion type:')\n",
        "print('1. Length (meters to feet or feet to meters)')\n",
        "print('2. Weight (kilograms to pounds or pounds to kilograms)')\n",
        "print('3. Volume (liters to gallons or gallons to liters)')\n",
        "\n",
        "choice = input('Enter choice (1/2/3): ')\n",
        "if choice not in ['1', '2', '3']:\n",
        "    print('Invalid choice!')\n",
        "else:\n",
        "    try:\n",
        "        value = float(input('Enter the value to convert: '))\n",
        "        if choice == '1':\n",
        "            conv_type = input(\"Enter conversion type ('m_to_ft' or 'ft_to_m'): \")\n",
        "            result = convert_length(value, conv_type)\n",
        "        elif choice == '2':\n",
        "            conv_type = input(\"Enter conversion type ('kg_to_lbs' or 'lbs_to_kg'): \")\n",
        "            result = convert_weight(value, conv_type)\n",
        "        elif choice == '3':\n",
        "            conv_type = input(\"Enter conversion type ('l_to_gal' or 'gal_to_l'): \")\n",
        "            result = convert_volume(value, conv_type)\n",
        "\n",
        "        if result is not None:\n",
        "            print('Converted value:', result)\n",
        "    except ValueError:\n",
        "        print('Please enter a valid number!')\n"
      ]
    },
    {
      "cell_type": "markdown",
      "source": [
        "Task - 2:\n",
        "Create a Python program that performs various mathematical operations on a list of numbers.\n",
        "• The Program should:\n",
        "1. Prompt the user to choose an operation (e.g., find the sum, average, maximum, or minimum\n",
        "of the numbers).\n",
        "2. Ask the user to input a list of numbers (separated by spaces).\n",
        "3. Perform the selected operation and display the result.\n",
        "4. Handle potential errors, such as invalid input or empty lists."
      ],
      "metadata": {
        "id": "tQntcSBZBlZw"
      }
    },
    {
      "cell_type": "code",
      "source": [
        "# Simple Math Operations on a List of Numbers\n",
        "\n",
        "# Function to calculate the sum of numbers\n",
        "def calculate_sum(numbers):\n",
        "    \"\"\"Returns the sum of a list of numbers.\"\"\"\n",
        "    return sum(numbers)\n",
        "\n",
        "# Function to calculate the average of numbers\n",
        "def calculate_average(numbers):\n",
        "    \"\"\"Returns the average of a list of numbers.\"\"\"\n",
        "    if len(numbers) == 0:\n",
        "        print('Cannot calculate average of an empty list.')\n",
        "        return None\n",
        "    return sum(numbers) / len(numbers)\n",
        "\n",
        "# Function to find the maximum value\n",
        "def find_maximum(numbers):\n",
        "    \"\"\"Returns the maximum value from a list of numbers.\"\"\"\n",
        "    return max(numbers)\n",
        "\n",
        "# Function to find the minimum value\n",
        "def find_minimum(numbers):\n",
        "    \"\"\"Returns the minimum value from a list of numbers.\"\"\"\n",
        "    return min(numbers)\n",
        "\n",
        "# Main program\n",
        "print('Math Operations on a List of Numbers')\n",
        "print('Choose an operation:')\n",
        "print('1. Sum of numbers')\n",
        "print('2. Average of numbers')\n",
        "print('3. Maximum of numbers')\n",
        "print('4. Minimum of numbers')\n",
        "\n",
        "choice = input('Enter choice (1/2/3/4): ')\n",
        "if choice not in ['1', '2', '3', '4']:\n",
        "    print('Invalid choice!')\n",
        "else:\n",
        "    try:\n",
        "        numbers = list(map(float, input('Enter numbers separated by spaces: ').split()))\n",
        "        if len(numbers) == 0:\n",
        "            print('The list of numbers cannot be empty!')\n",
        "        else:\n",
        "            if choice == '1':\n",
        "                result = calculate_sum(numbers)\n",
        "            elif choice == '2':\n",
        "                result = calculate_average(numbers)\n",
        "            elif choice == '3':\n",
        "                result = find_maximum(numbers)\n",
        "            elif choice == '4':\n",
        "                result = find_minimum(numbers)\n",
        "\n",
        "            if result is not None:\n",
        "                print('Result:', result)\n",
        "    except ValueError:\n",
        "        print('Please enter valid numbers!')\n"
      ],
      "metadata": {
        "colab": {
          "base_uri": "https://localhost:8080/"
        },
        "id": "yHiblkkEBp3_",
        "outputId": "fba99be3-97d8-478d-d8ff-26f59861a4d8"
      },
      "execution_count": null,
      "outputs": [
        {
          "output_type": "stream",
          "name": "stdout",
          "text": [
            "Math Operations on a List of Numbers\n",
            "Choose an operation:\n",
            "1. Sum of numbers\n",
            "2. Average of numbers\n",
            "3. Maximum of numbers\n",
            "4. Minimum of numbers\n",
            "Enter choice (1/2/3/4): 1\n",
            "Enter numbers separated by spaces: 6 7 8 \n",
            "Result: 21.0\n"
          ]
        }
      ]
    },
    {
      "cell_type": "markdown",
      "source": [
        "4.2 Exercise on List Manipulation:\n",
        "1. Extract Every Other Element:\n",
        "Write a Python function that extracts every other element from a list, starting from the first element."
      ],
      "metadata": {
        "id": "dqj6AWm-CCo1"
      }
    },
    {
      "cell_type": "code",
      "source": [
        "def extract_every_other(lst):\n",
        "    return lst[::2]\n",
        "\n",
        "# Example usage:\n",
        "input_list = [1, 2, 3, 4, 5, 6]\n",
        "output_list = extract_every_other(input_list)\n",
        "print(output_list)  # Output: [1, 3, 5]\n"
      ],
      "metadata": {
        "colab": {
          "base_uri": "https://localhost:8080/"
        },
        "id": "2y6_vsWeCHYq",
        "outputId": "8e4c433d-7b22-4b36-80f7-b9154522b820"
      },
      "execution_count": null,
      "outputs": [
        {
          "output_type": "stream",
          "name": "stdout",
          "text": [
            "[1, 3, 5]\n"
          ]
        }
      ]
    },
    {
      "cell_type": "markdown",
      "source": [
        "2. Slice a Sublist:\n",
        "Write a Python function that returns a sublist from a given list, starting from a specified index and\n",
        "ending at another specified index."
      ],
      "metadata": {
        "id": "0abh7wJQCnEn"
      }
    },
    {
      "cell_type": "code",
      "source": [
        "def get_sublist(lst, start, end):\n",
        "    return lst[start:end+1]\n",
        "\n",
        "# Example usage:\n",
        "input_list = [1, 2, 3, 4, 5, 6]\n",
        "start_index = 2\n",
        "end_index = 4\n",
        "output_list = get_sublist(input_list, start_index, end_index)\n",
        "print(output_list)  # Output: [3, 4, 5]\n"
      ],
      "metadata": {
        "colab": {
          "base_uri": "https://localhost:8080/"
        },
        "id": "lNKz3-DACrOg",
        "outputId": "7c2fcf74-49d7-4621-ed38-58c7aa038f6b"
      },
      "execution_count": null,
      "outputs": [
        {
          "output_type": "stream",
          "name": "stdout",
          "text": [
            "[3, 4, 5]\n"
          ]
        }
      ]
    },
    {
      "cell_type": "markdown",
      "source": [
        "3. Reverse a List Using Slicing:\n",
        "Write a Python function that reverses a list using slicing."
      ],
      "metadata": {
        "id": "7BjkagfkCxxo"
      }
    },
    {
      "cell_type": "code",
      "source": [
        "def reverse_list(lst):\n",
        "    return lst[::-1]\n",
        "\n",
        "# Example usage:\n",
        "input_list = [1, 2, 3, 4, 5]\n",
        "output_list = reverse_list(input_list)\n",
        "print(output_list)  # Output: [5, 4, 3, 2, 1]\n"
      ],
      "metadata": {
        "colab": {
          "base_uri": "https://localhost:8080/"
        },
        "id": "fCkFqyvUCz2d",
        "outputId": "6f3cb132-2754-4474-a77e-67c83b054ffd"
      },
      "execution_count": null,
      "outputs": [
        {
          "output_type": "stream",
          "name": "stdout",
          "text": [
            "[5, 4, 3, 2, 1]\n"
          ]
        }
      ]
    },
    {
      "cell_type": "markdown",
      "source": [
        "4. Remove the First and Last Elements:\n",
        "Write a Python function that removes the first and last elements of a list and returns the resulting\n",
        "sublist."
      ],
      "metadata": {
        "id": "J6CHLInCC5dO"
      }
    },
    {
      "cell_type": "code",
      "source": [
        "def remove_first_last(lst):\n",
        "    return lst[1:-1]\n",
        "\n",
        "# Example usage:\n",
        "input_list = [1, 2, 3, 4, 5]\n",
        "output_list = remove_first_last(input_list)\n",
        "print(output_list)  # Output: [2, 3, 4]\n"
      ],
      "metadata": {
        "colab": {
          "base_uri": "https://localhost:8080/"
        },
        "id": "QJb-D2qqC7rw",
        "outputId": "808d28b6-7606-4a1c-8dce-dfe4717f8a55"
      },
      "execution_count": null,
      "outputs": [
        {
          "output_type": "stream",
          "name": "stdout",
          "text": [
            "[2, 3, 4]\n"
          ]
        }
      ]
    },
    {
      "cell_type": "markdown",
      "source": [
        "5. Get the First n Elements:\n",
        "Write a Python function that extracts the first n elements from a list."
      ],
      "metadata": {
        "id": "HoLZJ9YxDAwJ"
      }
    },
    {
      "cell_type": "code",
      "source": [
        "def get_first_n(lst, n):\n",
        "    return lst[:n]\n",
        "\n",
        "# Example usage:\n",
        "input_list = [1, 2, 3, 4, 5]\n",
        "n = 3\n",
        "output_list = get_first_n(input_list, n)\n",
        "print(output_list)  # Output: [1, 2, 3]\n"
      ],
      "metadata": {
        "colab": {
          "base_uri": "https://localhost:8080/"
        },
        "id": "1db2w3CuDDD_",
        "outputId": "177765e7-89d5-40e9-d7bc-298b3d850b84"
      },
      "execution_count": null,
      "outputs": [
        {
          "output_type": "stream",
          "name": "stdout",
          "text": [
            "[1, 2, 3]\n"
          ]
        }
      ]
    },
    {
      "cell_type": "markdown",
      "source": [
        "6. Extract Elements from the End:\n",
        "Write a Python function that extracts the last n elements of a list using slicing."
      ],
      "metadata": {
        "id": "fdDcRjPDDIB5"
      }
    },
    {
      "cell_type": "code",
      "source": [
        "def get_last_n(lst, n):\n",
        "    return lst[-n:]\n",
        "\n",
        "# Example usage:\n",
        "input_list = [1, 2, 3, 4, 5]\n",
        "n = 2\n",
        "output_list = get_last_n(input_list, n)\n",
        "print(output_list)  # Output: [4, 5]\n"
      ],
      "metadata": {
        "colab": {
          "base_uri": "https://localhost:8080/"
        },
        "id": "niWp6fFvDPAM",
        "outputId": "80d79aa8-c8fc-4350-d883-084d8d3d6dc3"
      },
      "execution_count": null,
      "outputs": [
        {
          "output_type": "stream",
          "name": "stdout",
          "text": [
            "[4, 5]\n"
          ]
        }
      ]
    },
    {
      "cell_type": "markdown",
      "source": [
        "7. Extract Elements in Reverse Order:\n",
        "Write a Python function that extracts a list of elements in reverse order starting from the second-to-last\n",
        "element and skipping one element in between."
      ],
      "metadata": {
        "id": "5LchiZRMDTmz"
      }
    },
    {
      "cell_type": "code",
      "source": [
        "def reverse_skip(lst):\n",
        "    return lst[-2::-2]\n",
        "\n",
        "# Example usage:\n",
        "input_list = [1, 2, 3, 4, 5, 6]\n",
        "output_list = reverse_skip(input_list)\n",
        "print(output_list)  # Output: [5, 3, 1]\n"
      ],
      "metadata": {
        "colab": {
          "base_uri": "https://localhost:8080/"
        },
        "id": "EFGmvQYHDWYT",
        "outputId": "4c9cf4ab-419a-423e-fe83-08e653f708e8"
      },
      "execution_count": null,
      "outputs": [
        {
          "output_type": "stream",
          "name": "stdout",
          "text": [
            "[5, 3, 1]\n"
          ]
        }
      ]
    },
    {
      "cell_type": "markdown",
      "source": [
        "4.3 Exercise on Nested List:\n",
        "1. Flatten a Nested List:\n",
        "Write a Python function that takes a nested list and flattens it into a single list, where all the elements\n",
        "are in a single dimension."
      ],
      "metadata": {
        "id": "Ej9wDyfrMi1n"
      }
    },
    {
      "cell_type": "code",
      "source": [
        "def flatten(lst):\n",
        "    flattened_list = []\n",
        "    for item in lst:\n",
        "        if isinstance(item, list):\n",
        "            flattened_list.extend(flatten(item))  # Recursively flatten if the item is a list\n",
        "        else:\n",
        "            flattened_list.append(item)\n",
        "    return flattened_list\n",
        "\n",
        "# Example usage:\n",
        "nested_list = [[1, 2], [3, 4], [5]]\n",
        "print(flatten(nested_list))  # Output: [1, 2, 3, 4, 5]\n"
      ],
      "metadata": {
        "colab": {
          "base_uri": "https://localhost:8080/"
        },
        "id": "zu0of8O5Mjmd",
        "outputId": "e68eb660-8f31-4604-d438-62721f6bdab7"
      },
      "execution_count": 1,
      "outputs": [
        {
          "output_type": "stream",
          "name": "stdout",
          "text": [
            "[1, 2, 3, 4, 5]\n"
          ]
        }
      ]
    },
    {
      "cell_type": "markdown",
      "source": [
        "2. Accessing Nested List Elements:\n",
        "Write a Python function that extracts a specific element from a nested list given its indices."
      ],
      "metadata": {
        "id": "k3EF09j1M4FR"
      }
    },
    {
      "cell_type": "code",
      "source": [
        "def access_nested_element(lst, indices):\n",
        "    element = lst\n",
        "    for index in indices:\n",
        "        element = element[index]\n",
        "    return element\n",
        "\n",
        "# Example usage:\n",
        "lst = [[1, 2, 3], [4, 5, 6], [7, 8, 9]]\n",
        "indices = [1, 2]\n",
        "print(access_nested_element(lst, indices))  # Output: 6\n"
      ],
      "metadata": {
        "colab": {
          "base_uri": "https://localhost:8080/"
        },
        "id": "IriiCLHqM7M4",
        "outputId": "8c0b45f6-f457-4202-cc1a-20fca4d2259d"
      },
      "execution_count": 2,
      "outputs": [
        {
          "output_type": "stream",
          "name": "stdout",
          "text": [
            "6\n"
          ]
        }
      ]
    },
    {
      "cell_type": "markdown",
      "source": [
        "3. Sum of All Elements in a Nested List:\n",
        "Write a Python function that calculates the sum of all the numbers in a nested list (regardless of depth)."
      ],
      "metadata": {
        "id": "1HCw6G1HNMwL"
      }
    },
    {
      "cell_type": "code",
      "source": [
        "def sum_nested(lst):\n",
        "    total = 0\n",
        "    for item in lst:\n",
        "        if isinstance(item, list):\n",
        "            total += sum_nested(item)  # Recursively sum if the item is a list\n",
        "        else:\n",
        "            total += item\n",
        "    return total\n",
        "\n",
        "# Example usage:\n",
        "nested_list = [[1, 2], [3, [4, 5]], 6]\n",
        "print(sum_nested(nested_list))  # Output: 21\n"
      ],
      "metadata": {
        "colab": {
          "base_uri": "https://localhost:8080/"
        },
        "id": "VgluwUSXNQCl",
        "outputId": "f9d0911e-6723-4093-c818-aaf0e52f468a"
      },
      "execution_count": 3,
      "outputs": [
        {
          "output_type": "stream",
          "name": "stdout",
          "text": [
            "21\n"
          ]
        }
      ]
    },
    {
      "cell_type": "markdown",
      "source": [
        "4. Remove Specific Element from a Nested List:\n",
        "Write a Python function that removes all occurrences of a specific element from a nested list."
      ],
      "metadata": {
        "id": "eAGx0P8UP-hS"
      }
    },
    {
      "cell_type": "code",
      "source": [
        "def remove_element(lst, elem):\n",
        "    # Iterate through the outer list and filter out the specified element from inner lists\n",
        "    return [[item for item in sublist if item != elem] for sublist in lst]\n",
        "\n",
        "# Example usage:\n",
        "lst = [[1, 2], [3, 2], [4, 5]]\n",
        "elem = 2\n",
        "result = remove_element(lst, elem)\n",
        "print(result)  # Output: [[1], [3], [4, 5]]\n"
      ],
      "metadata": {
        "colab": {
          "base_uri": "https://localhost:8080/"
        },
        "id": "fLwcdX7PVG5i",
        "outputId": "6d1326e7-b248-4c8a-abd1-4fee456c6c99"
      },
      "execution_count": 4,
      "outputs": [
        {
          "output_type": "stream",
          "name": "stdout",
          "text": [
            "[[1], [3], [4, 5]]\n"
          ]
        }
      ]
    },
    {
      "cell_type": "markdown",
      "source": [
        "5. Find the Maximum Element in a Nested List:\n",
        "Write a Python function that finds the maximum element in a nested list (regardless of depth)."
      ],
      "metadata": {
        "id": "wX25EXIHVMqc"
      }
    },
    {
      "cell_type": "code",
      "source": [
        "def find_max(lst):\n",
        "    max_elem = float('-inf')  # Start with the lowest possible value\n",
        "\n",
        "    for item in lst:\n",
        "        if isinstance(item, list):\n",
        "            max_elem = max(max_elem, find_max(item))  # Recursively find the max in sublists\n",
        "        else:\n",
        "            max_elem = max(max_elem, item)\n",
        "\n",
        "    return max_elem\n",
        "\n",
        "# Example usage:\n",
        "lst = [[1, 2], [3, [4, 5]], 6]\n",
        "result = find_max(lst)\n",
        "print(result)  # Output: 6\n"
      ],
      "metadata": {
        "colab": {
          "base_uri": "https://localhost:8080/"
        },
        "id": "piOdaOXJVP55",
        "outputId": "deee3ccf-270f-49ba-ea4b-a190e99fd78f"
      },
      "execution_count": 5,
      "outputs": [
        {
          "output_type": "stream",
          "name": "stdout",
          "text": [
            "6\n"
          ]
        }
      ]
    },
    {
      "cell_type": "markdown",
      "source": [
        "6. Count Occurrences of an Element in a Nested List:\n",
        "Write a Python function that counts how many times a specific element appears in a nested list."
      ],
      "metadata": {
        "id": "hPsopMYzVW1t"
      }
    },
    {
      "cell_type": "code",
      "source": [
        "def count_occurrences(lst, elem):\n",
        "    count = 0\n",
        "    for item in lst:\n",
        "        if isinstance(item, list):\n",
        "            count += count_occurrences(item, elem)  # Recursively count in sublists\n",
        "        elif item == elem:\n",
        "            count += 1\n",
        "    return count\n",
        "\n",
        "# Example usage:\n",
        "lst = [[1, 2], [2, 3], [2, 4]]\n",
        "elem = 2\n",
        "result = count_occurrences(lst, elem)\n",
        "print(result)  # Output: 3\n"
      ],
      "metadata": {
        "colab": {
          "base_uri": "https://localhost:8080/"
        },
        "id": "wFahkRGjVaq7",
        "outputId": "cb0206d9-1bd2-4773-df48-10fa3b056e8f"
      },
      "execution_count": 6,
      "outputs": [
        {
          "output_type": "stream",
          "name": "stdout",
          "text": [
            "3\n"
          ]
        }
      ]
    },
    {
      "cell_type": "markdown",
      "source": [
        "7. Flatten a List of Lists of Lists:\n",
        "Write a Python function that flattens a list of lists of lists into a single list, regardless of the depth."
      ],
      "metadata": {
        "id": "ZJW_3AG0VfQJ"
      }
    },
    {
      "cell_type": "code",
      "source": [
        "def deep_flatten(lst):\n",
        "    flat_list = []\n",
        "    for item in lst:\n",
        "        if isinstance(item, list):\n",
        "            flat_list.extend(deep_flatten(item))  # Recursively flatten nested lists\n",
        "        else:\n",
        "            flat_list.append(item)\n",
        "    return flat_list\n",
        "\n",
        "# Example usage:\n",
        "lst = [[[1, 2], [3, 4]], [[5, 6], [7, 8]]]\n",
        "result = deep_flatten(lst)\n",
        "print(result)  # Output: [1, 2, 3, 4, 5, 6, 7, 8]\n"
      ],
      "metadata": {
        "colab": {
          "base_uri": "https://localhost:8080/"
        },
        "id": "oqNLIVI3Vh7q",
        "outputId": "471fd7a8-2438-48da-ef55-e942f82e887c"
      },
      "execution_count": 7,
      "outputs": [
        {
          "output_type": "stream",
          "name": "stdout",
          "text": [
            "[1, 2, 3, 4, 5, 6, 7, 8]\n"
          ]
        }
      ]
    },
    {
      "cell_type": "markdown",
      "source": [
        "8. Nested List Average:\n",
        "Write a Python function that calculates the average of all elements in a nested list."
      ],
      "metadata": {
        "id": "zQhpvXeTVmLv"
      }
    },
    {
      "cell_type": "code",
      "source": [
        "def average_nested(lst):\n",
        "    flat_list = []\n",
        "\n",
        "    def flatten(lst):\n",
        "        for item in lst:\n",
        "            if isinstance(item, list):\n",
        "                flatten(item)  # Recursively flatten nested lists\n",
        "            else:\n",
        "                flat_list.append(item)\n",
        "\n",
        "    flatten(lst)\n",
        "\n",
        "    # Calculate the average\n",
        "    return sum(flat_list) / len(flat_list) if flat_list else 0\n",
        "\n",
        "# Example usage:\n",
        "lst = [[1, 2], [3, 4], [5, 6]]\n",
        "result = average_nested(lst)\n",
        "print(result)  # Output: 3.5\n"
      ],
      "metadata": {
        "colab": {
          "base_uri": "https://localhost:8080/"
        },
        "id": "yE_UtfriVpww",
        "outputId": "7113dcdb-9d4e-4875-99b0-caff66115820"
      },
      "execution_count": 8,
      "outputs": [
        {
          "output_type": "stream",
          "name": "stdout",
          "text": [
            "3.5\n"
          ]
        }
      ]
    },
    {
      "cell_type": "markdown",
      "source": [
        "10 To - Do - NumPy\n",
        "10.1 Basic Vector and Matrix Operation with Numpy.\n",
        "Problem - 1: Array Creation:\n",
        "Complete the following Tasks:\n",
        "1. Initialize an empty array with size 2X2.\n",
        "2. Initialize an all one array with size 4X2.\n",
        "3. Return a new array of given shape and type, filled with fill value.{Hint: np.full}\n",
        "4. Return a new array of zeros with same shape and type as a given array.{Hint: np.zeros like}\n",
        "5. Return a new array of ones with same shape and type as a given array.{Hint: np.ones like}\n",
        "6. For an existing list new_list = [1,2,3,4] convert to an numpy array.{Hint: np.array()}"
      ],
      "metadata": {
        "id": "IROExOrgWGwD"
      }
    },
    {
      "cell_type": "code",
      "source": [
        "import numpy as np\n",
        "\n",
        "# 1. Initialize an empty array with size 2X2\n",
        "empty_array = np.empty((2, 2))\n",
        "print(\"Empty array (2x2):\\n\", empty_array)\n",
        "\n",
        "# 2. Initialize an all-one array with size 4X2\n",
        "ones_array = np.ones((4, 2))\n",
        "print(\"\\nAll ones array (4x2):\\n\", ones_array)\n",
        "\n",
        "# 3. Return a new array of given shape and type, filled with a fill value (e.g., 7)\n",
        "filled_array = np.full((3, 3), 7)\n",
        "print(\"\\nArray filled with 7 (3x3):\\n\", filled_array)\n",
        "\n",
        "# 4. Return a new array of zeros with the same shape and type as a given array\n",
        "existing_array = np.array([[1, 2], [3, 4]])\n",
        "zeros_like_array = np.zeros_like(existing_array)\n",
        "print(\"\\nZeros array with the same shape as the given array:\\n\", zeros_like_array)\n",
        "\n",
        "# 5. Return a new array of ones with the same shape and type as a given array\n",
        "ones_like_array = np.ones_like(existing_array)\n",
        "print(\"\\nOnes array with the same shape as the given array:\\n\", ones_like_array)\n",
        "\n",
        "# 6. Convert an existing list to a numpy array\n",
        "new_list = [1, 2, 3, 4]\n",
        "numpy_array = np.array(new_list)\n",
        "print(\"\\nConverted numpy array from list:\", numpy_array)\n"
      ],
      "metadata": {
        "colab": {
          "base_uri": "https://localhost:8080/"
        },
        "id": "Le2dVvUDWMko",
        "outputId": "5891cbc5-707e-479a-c695-a5062680215a"
      },
      "execution_count": 9,
      "outputs": [
        {
          "output_type": "stream",
          "name": "stdout",
          "text": [
            "Empty array (2x2):\n",
            " [[3.21983525e-316 0.00000000e+000]\n",
            " [6.90732054e-310 5.33257700e-317]]\n",
            "\n",
            "All ones array (4x2):\n",
            " [[1. 1.]\n",
            " [1. 1.]\n",
            " [1. 1.]\n",
            " [1. 1.]]\n",
            "\n",
            "Array filled with 7 (3x3):\n",
            " [[7 7 7]\n",
            " [7 7 7]\n",
            " [7 7 7]]\n",
            "\n",
            "Zeros array with the same shape as the given array:\n",
            " [[0 0]\n",
            " [0 0]]\n",
            "\n",
            "Ones array with the same shape as the given array:\n",
            " [[1 1]\n",
            " [1 1]]\n",
            "\n",
            "Converted numpy array from list: [1 2 3 4]\n"
          ]
        }
      ]
    },
    {
      "cell_type": "markdown",
      "source": [
        "Problem - 2: Array Manipulation: Numerical Ranges and Array indexing:\n",
        "Complete the following tasks:\n",
        "1. Create an array with values ranging from 10 to 49. {Hint:np.arrange()}.\n",
        "2. Create a 3X3 matrix with values ranging from 0 to 8.\n",
        "{Hint:look for np.reshape()}\n",
        "3. Create a 3X3 identity matrix.{Hint:np.eye()}\n",
        "4. Create a random array of size 30 and find the mean of the array.\n",
        "{Hint:check for np.random.random() and array.mean() function}\n",
        "5. Create a 10X10 array with random values and find the minimum and maximum values.\n",
        "6. Create a zero array of size 10 and replace 5th element with 1.\n",
        "7. Reverse an array arr = [1,2,0,0,4,0].\n",
        "8. Create a 2d array with 1 on border and 0 inside.\n",
        "9. Create a 8X8 matrix and fill it with a checkerboard pattern."
      ],
      "metadata": {
        "id": "FbAmoMnQWQCE"
      }
    },
    {
      "cell_type": "code",
      "source": [
        "import numpy as np\n",
        "\n",
        "# 1. Create an array with values ranging from 10 to 49\n",
        "array_1 = np.arange(10, 50)\n",
        "print(\"Array from 10 to 49:\\n\", array_1)\n",
        "\n",
        "# 2. Create a 3X3 matrix with values ranging from 0 to 8\n",
        "matrix_3x3 = np.arange(9).reshape(3, 3)\n",
        "print(\"\\n3x3 Matrix (0 to 8):\\n\", matrix_3x3)\n",
        "\n",
        "# 3. Create a 3X3 identity matrix\n",
        "identity_matrix = np.eye(3)\n",
        "print(\"\\n3x3 Identity Matrix:\\n\", identity_matrix)\n",
        "\n",
        "# 4. Create a random array of size 30 and find the mean of the array\n",
        "random_array = np.random.random(30)\n",
        "mean_value = random_array.mean()\n",
        "print(\"\\nRandom array of size 30 and its mean:\", mean_value)\n",
        "\n",
        "# 5. Create a 10X10 array with random values and find the minimum and maximum values\n",
        "random_array_10x10 = np.random.random((10, 10))\n",
        "min_value = random_array_10x10.min()\n",
        "max_value = random_array_10x10.max()\n",
        "print(\"\\n10x10 Random array - Min value:\", min_value, \"Max value:\", max_value)\n",
        "\n",
        "# 6. Create a zero array of size 10 and replace the 5th element with 1\n",
        "zero_array = np.zeros(10)\n",
        "zero_array[4] = 1  # Indexing starts from 0, so 5th element is at index 4\n",
        "print(\"\\nZero array with 5th element replaced by 1:\", zero_array)\n",
        "\n",
        "# 7. Reverse an array arr = [1,2,0,0,4,0]\n",
        "arr = np.array([1, 2, 0, 0, 4, 0])\n",
        "reversed_arr = arr[::-1]\n",
        "print(\"\\nReversed array:\", reversed_arr)\n",
        "\n",
        "# 8. Create a 2d array with 1 on border and 0 inside\n",
        "border_array = np.ones((5, 5))\n",
        "border_array[1:-1, 1:-1] = 0\n",
        "print(\"\\n2D Array with 1 on border and 0 inside:\\n\", border_array)\n",
        "\n",
        "# 9. Create an 8X8 matrix and fill it with a checkerboard pattern\n",
        "checkerboard = np.zeros((8, 8))\n",
        "checkerboard[1::2, ::2] = 1\n",
        "checkerboard[::2, 1::2] = 1\n",
        "print(\"\\n8x8 Checkerboard pattern:\\n\", checkerboard)\n"
      ],
      "metadata": {
        "id": "fpfREsOMWVZ6"
      },
      "execution_count": null,
      "outputs": []
    },
    {
      "cell_type": "markdown",
      "source": [
        "Problem - 3: Array Operations:\n",
        "For the following arrays:\n",
        "x = np.array([[1,2],[3,5]]) and y = np.array([[5,6],[7,8]]);\n",
        "v = np.array([9,10]) and w = np.array([11,12]);\n",
        "Complete all the task using numpy:\n",
        "1. Add the two array.\n",
        "2. Subtract the two array.\n",
        "3. Multiply the array with any integers of your choice.\n",
        "4. Find the square of each element of the array.\n",
        "5. Find the dot product between: v(and)w ; x(and)v ; x(and)y.\n",
        "6. Concatenate x(and)y along row and Concatenate v(and)w along column.\n",
        "{Hint:try np.concatenate() or np.vstack() functions.\n",
        "7. Concatenate x(and)v; if you get an error, observe and explain why did you get the error?"
      ],
      "metadata": {
        "id": "A7tTM4H0WdwU"
      }
    },
    {
      "cell_type": "code",
      "source": [
        "import numpy as np\n",
        "\n",
        "# Given arrays\n",
        "x = np.array([[1, 2], [3, 5]])\n",
        "y = np.array([[5, 6], [7, 8]])\n",
        "v = np.array([9, 10])\n",
        "w = np.array([11, 12])\n",
        "\n",
        "# 1. Add the two arrays\n",
        "add_result = x + y\n",
        "print(\"1. Add the two arrays (x + y):\\n\", add_result)\n",
        "\n",
        "# 2. Subtract the two arrays\n",
        "subtract_result = x - y\n",
        "print(\"\\n2. Subtract the two arrays (x - y):\\n\", subtract_result)\n",
        "\n",
        "# 3. Multiply the array with any integers of your choice\n",
        "multiply_result = x * 2  # Multiply x by 2 (you can choose any integer)\n",
        "print(\"\\n3. Multiply the array x with 2:\\n\", multiply_result)\n",
        "\n",
        "# 4. Find the square of each element of the array\n",
        "square_result = np.square(x)\n",
        "print(\"\\n4. Square of each element in x:\\n\", square_result)\n",
        "\n",
        "# 5. Find the dot product between:\n",
        "# v and w\n",
        "dot_vw = np.dot(v, w)\n",
        "# x and v\n",
        "dot_xv = np.dot(x, v)\n",
        "# x and y\n",
        "dot_xy = np.dot(x, y)\n",
        "print(\"\\n5. Dot product between:\")\n",
        "print(\"v and w:\", dot_vw)\n",
        "print(\"x and v:\\n\", dot_xv)\n",
        "print(\"x and y:\\n\", dot_xy)\n",
        "\n",
        "# 6. Concatenate x and y along the row and Concatenate v and w along the column\n",
        "concatenate_xy_row = np.concatenate((x, y), axis=0)  # Concatenate x and y along rows\n",
        "concatenate_vw_column = np.concatenate((v.reshape(-1, 1), w.reshape(-1, 1)), axis=1)  # Concatenate v and w along columns\n",
        "print(\"\\n6. Concatenate x and y along rows:\\n\", concatenate_xy_row)\n",
        "print(\"Concatenate v and w along columns:\\n\", concatenate_vw_column)\n",
        "\n",
        "# 7. Concatenate x and v; observe and explain why there's an error\n",
        "try:\n",
        "    concatenate_xv = np.concatenate((x, v), axis=0)\n",
        "except Exception as e:\n",
        "    print(\"\\n7. Error while concatenating x and v along rows:\", e)\n",
        "\n",
        "\n"
      ],
      "metadata": {
        "id": "gqEMiivwWgae"
      },
      "execution_count": null,
      "outputs": []
    },
    {
      "cell_type": "markdown",
      "source": [
        "Problem - 4: Matrix Operations:\n",
        "• For the following arrays:\n",
        "A = np.array([[3,4],[7,8]]) and B = np.array([[5,3],[2,1]]);\n",
        "Prove following with Numpy:\n",
        "1. Prove A.A−1 = I.\n",
        "2. Prove AB ̸= BA.\n",
        "3. Prove (AB)\n",
        "\n",
        "T = BTAT\n",
        ".\n",
        "\n",
        "• Solve the following system of Linear equation using Inverse Methods.\n",
        "\n",
        "2x − 3y + z = −1\n",
        "x − y + 2z = −3\n",
        "3x + y − z = 9\n",
        "\n",
        "{Hint: First use Numpy array to represent the equation in Matrix form. Then Solve for: AX = B}\n",
        "\n",
        "• Now: solve the above equation using np.linalg.inv function.{Explore more about ”linalg” func-\n",
        "tion of Numpy}"
      ],
      "metadata": {
        "id": "wu4knxI-WlsD"
      }
    },
    {
      "cell_type": "code",
      "source": [
        "import numpy as np\n",
        "\n",
        "# Matrix A and B\n",
        "A = np.array([[3, 4], [7, 8]])\n",
        "B = np.array([[5, 3], [2, 1]])\n"
      ],
      "metadata": {
        "id": "j1v5m0QXWp5G"
      },
      "execution_count": 10,
      "outputs": []
    },
    {
      "cell_type": "code",
      "source": [
        "# Compute the inverse of A\n",
        "A_inv = np.linalg.inv(A)\n",
        "\n",
        "# Multiply A by its inverse\n",
        "identity_matrix = np.dot(A, A_inv)\n",
        "\n",
        "print(\"1. A.A−1 = I:\\n\", identity_matrix)\n"
      ],
      "metadata": {
        "colab": {
          "base_uri": "https://localhost:8080/"
        },
        "id": "t5JLvmntWt96",
        "outputId": "d5820cfc-09cf-409b-c058-5e941b753c2b"
      },
      "execution_count": 11,
      "outputs": [
        {
          "output_type": "stream",
          "name": "stdout",
          "text": [
            "1. A.A−1 = I:\n",
            " [[1.00000000e+00 0.00000000e+00]\n",
            " [1.77635684e-15 1.00000000e+00]]\n"
          ]
        }
      ]
    },
    {
      "cell_type": "code",
      "source": [
        "# Compute AB and BA\n",
        "AB = np.dot(A, B)\n",
        "BA = np.dot(B, A)\n",
        "\n",
        "print(\"\\n2. AB ≠ BA:\")\n",
        "print(\"AB:\\n\", AB)\n",
        "print(\"BA:\\n\", BA)\n"
      ],
      "metadata": {
        "colab": {
          "base_uri": "https://localhost:8080/"
        },
        "id": "h_q16t5lWwB9",
        "outputId": "9b00d6e5-6782-4fe7-e90a-b2a312eddaa1"
      },
      "execution_count": 12,
      "outputs": [
        {
          "output_type": "stream",
          "name": "stdout",
          "text": [
            "\n",
            "2. AB ≠ BA:\n",
            "AB:\n",
            " [[23 13]\n",
            " [51 29]]\n",
            "BA:\n",
            " [[36 44]\n",
            " [13 16]]\n"
          ]
        }
      ]
    },
    {
      "cell_type": "code",
      "source": [
        "# Compute the transpose of AB\n",
        "AB_T = np.transpose(AB)\n",
        "\n",
        "# Compute B^T * A^T\n",
        "B_T_A_T = np.dot(np.transpose(B), np.transpose(A))\n",
        "\n",
        "print(\"\\n3. (AB)^T = B^T A^T:\")\n",
        "print(\"Transpose of AB:\\n\", AB_T)\n",
        "print(\"B^T * A^T:\\n\", B_T_A_T)\n"
      ],
      "metadata": {
        "colab": {
          "base_uri": "https://localhost:8080/"
        },
        "id": "1FRQtd8jWxzV",
        "outputId": "7ca0051a-60a7-4929-95a5-ae4bbd5fec1f"
      },
      "execution_count": 13,
      "outputs": [
        {
          "output_type": "stream",
          "name": "stdout",
          "text": [
            "\n",
            "3. (AB)^T = B^T A^T:\n",
            "Transpose of AB:\n",
            " [[23 51]\n",
            " [13 29]]\n",
            "B^T * A^T:\n",
            " [[23 51]\n",
            " [13 29]]\n"
          ]
        }
      ]
    },
    {
      "cell_type": "code",
      "source": [
        "# Coefficient matrix A\n",
        "A_eq = np.array([[2, -3, 1], [1, -1, 2], [3, 1, -1]])\n",
        "\n",
        "# Constants matrix B\n",
        "B_eq = np.array([-1, -3, 9])\n",
        "\n",
        "# Solve the system of linear equations AX = B using np.linalg.inv\n",
        "X = np.linalg.inv(A_eq).dot(B_eq)\n",
        "\n",
        "print(\"\\n4. Solution of the linear system using inverse method:\")\n",
        "print(\"x, y, z:\", X)\n"
      ],
      "metadata": {
        "colab": {
          "base_uri": "https://localhost:8080/"
        },
        "id": "4AbglZ2FW0NF",
        "outputId": "e42b0755-633b-4bbc-db78-1a17abf9f2e6"
      },
      "execution_count": 14,
      "outputs": [
        {
          "output_type": "stream",
          "name": "stdout",
          "text": [
            "\n",
            "4. Solution of the linear system using inverse method:\n",
            "x, y, z: [ 2.  1. -2.]\n"
          ]
        }
      ]
    },
    {
      "cell_type": "markdown",
      "source": [
        "10.2 Experiment: How Fast is Numpy?\n",
        "In this exercise, you will compare the performance and implementation of operations using plain Python\n",
        "lists (arrays) and NumPy arrays. Follow the instructions:\n",
        "1. Element-wise Addition:\n",
        "• Using Python Lists, perform element-wise addition of two lists of size 1, 000, 000. Measure\n",
        "and Print the time taken for this operation.\n",
        "• Using Numpy Arrays, Repeat the calculation and measure and print the time taken for\n",
        "this operation."
      ],
      "metadata": {
        "id": "wIuqtxpzW5se"
      }
    },
    {
      "cell_type": "code",
      "source": [
        "import time\n",
        "size = 1_000_000\n",
        "list1 = list(range(size))\n",
        "list2 = list(range(size))\n",
        "\n",
        "start_time = time.time()\n",
        "list_addition = [list1[i] + list2[i] for i in range(size)]\n",
        "python_add_time = time.time() - start_time\n",
        "\n",
        "array1 = np.arange(size)\n",
        "array2 = np.arange(size)\n",
        "\n",
        "start_time = time.time()\n",
        "array_addition = array1 + array2\n",
        "numpy_add_time = time.time() - start_time"
      ],
      "metadata": {
        "id": "HAvxOSz1W-pJ"
      },
      "execution_count": 16,
      "outputs": []
    },
    {
      "cell_type": "markdown",
      "source": [
        "**2. Element-wise Multiplication**\n",
        "\n",
        "• Using Python Lists, perform element-wise multiplication of two lists of size 1, 000, 000. Measure and Print the time taken for this operation.\n",
        "\n",
        "• Using Numpy Arrays, Repeat the calculation and measure and print the time taken for this operation."
      ],
      "metadata": {
        "id": "BaWgnM2JYDwD"
      }
    },
    {
      "cell_type": "code",
      "source": [
        "start_time = time.time()\n",
        "list_multiplication = [list1[i] * list2[i] for i in range(size)]\n",
        "python_mul_time = time.time() - start_time\n",
        "\n",
        "start_time = time.time()\n",
        "array_multiplication = array1 * array2\n",
        "numpy_mul_time = time.time() - start_time"
      ],
      "metadata": {
        "id": "G5Az0skLYGiU"
      },
      "execution_count": 17,
      "outputs": []
    },
    {
      "cell_type": "markdown",
      "source": [
        "**3. Dot Product**\n",
        "\n",
        "• Using Python Lists, compute the dot product of two lists of size 1, 000, 000. Measure and Print the time taken for this operation.\n",
        "\n",
        "• Using Numpy Arrays, Repeat the calculation and measure and print the time taken for this operation."
      ],
      "metadata": {
        "id": "XdFqnk11YIVf"
      }
    },
    {
      "cell_type": "code",
      "source": [
        "start_time = time.time()\n",
        "dot_product_list = sum(list1[i] * list2[i] for i in range(size))\n",
        "python_dot_time = time.time() - start_time\n",
        "\n",
        "start_time = time.time()\n",
        "dot_product_numpy = np.dot(array1, array2)\n",
        "numpy_dot_time = time.time() - start_time"
      ],
      "metadata": {
        "id": "lraNf9LuYLNl"
      },
      "execution_count": 18,
      "outputs": []
    },
    {
      "cell_type": "markdown",
      "source": [
        "**4. Matrix Multiplication**\n",
        "\n",
        "• Using Python lists, perform matrix multiplication of two matrices of size 1000x1000. Mea-\n",
        "sure and print the time taken for this operation.\n",
        "\n",
        "• Using NumPy arrays, perform matrix multiplication of two matrices of size 1000x1000.\n",
        "Measure and print the time taken for this operation."
      ],
      "metadata": {
        "id": "NVyhLfPXYOUq"
      }
    },
    {
      "cell_type": "code",
      "source": [
        "size_matrix = 1000\n",
        "matrix1_np = np.arange(size_matrix**2).reshape(size_matrix, size_matrix)\n",
        "matrix2_np = np.arange(size_matrix**2).reshape(size_matrix, size_matrix)\n",
        "\n",
        "start_time = time.time()\n",
        "matrix_multiplication_np = np.dot(matrix1_np, matrix2_np)\n",
        "numpy_matrix_time = time.time() - start_time"
      ],
      "metadata": {
        "id": "WWXQRaB8YQ04"
      },
      "execution_count": 19,
      "outputs": []
    },
    {
      "cell_type": "code",
      "source": [
        "print(f\"Python Addition Time: {python_add_time:.5f} seconds\")\n",
        "print(f\"NumPy Addition Time: {numpy_add_time:.5f} seconds\")\n",
        "print(f\"Python Multiplication Time: {python_mul_time:.5f} seconds\")\n",
        "print(f\"NumPy Multiplication Time: {numpy_mul_time:.5f} seconds\")\n",
        "print(f\"Python Dot Product Time: {python_dot_time:.5f} seconds\")\n",
        "print(f\"NumPy Dot Product Time: {numpy_dot_time:.5f} seconds\")\n",
        "print(f\"NumPy Matrix Multiplication Time: {numpy_matrix_time:.5f} seconds\")"
      ],
      "metadata": {
        "colab": {
          "base_uri": "https://localhost:8080/"
        },
        "id": "2ShaK9uXYaaS",
        "outputId": "aba74e05-7e8b-455d-c82b-e20ec4948de4"
      },
      "execution_count": 20,
      "outputs": [
        {
          "output_type": "stream",
          "name": "stdout",
          "text": [
            "Python Addition Time: 0.09518 seconds\n",
            "NumPy Addition Time: 0.01096 seconds\n",
            "Python Multiplication Time: 0.18855 seconds\n",
            "NumPy Multiplication Time: 0.00835 seconds\n",
            "Python Dot Product Time: 0.10048 seconds\n",
            "NumPy Dot Product Time: 0.00332 seconds\n",
            "NumPy Matrix Multiplication Time: 1.53060 seconds\n"
          ]
        }
      ]
    }
  ]
}